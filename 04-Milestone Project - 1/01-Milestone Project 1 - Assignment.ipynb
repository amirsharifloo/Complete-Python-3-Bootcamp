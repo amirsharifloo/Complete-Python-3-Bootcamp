{
 "cells": [
  {
   "cell_type": "markdown",
   "metadata": {},
   "source": [
    "___\n",
    "\n",
    "<a href='https://www.udemy.com/user/joseportilla/'><img src='../Pierian_Data_Logo.png'/></a>\n",
    "___\n",
    "<center><em>Content Copyright by Pierian Data</em></center>"
   ]
  },
  {
   "cell_type": "markdown",
   "metadata": {},
   "source": [
    "# Milestone Project 1\n",
    "## Congratulations on making it to your first milestone!\n",
    "You've already learned a ton and are ready to work on a real project.\n",
    "\n",
    "Your assignment: Create a Tic Tac Toe game. You are free to use any IDE you like.\n",
    "\n",
    "Here are the requirements:\n",
    "\n",
    "* 2 players should be able to play the game (both sitting at the same computer)\n",
    "* The board should be printed out every time a player makes a move\n",
    "* You should be able to accept input of the player position and then place a symbol on the board\n",
    "\n",
    "Feel free to use Google to help you figure anything out (but don't just Google \"Tic Tac Toe in Python\" otherwise you won't learn anything!) Keep in mind that this project can take anywhere between several hours to several days.\n",
    "\n",
    "There are 4 Jupyter Notebooks related to this assignment:\n",
    "\n",
    "* This Assignment Notebook\n",
    "* A \"Walkthrough Steps Workbook\" Notebook\n",
    "* A \"Complete Walkthrough Solution\" Notebook\n",
    "* An \"Advanced Solution\" Notebook\n",
    "\n",
    "I encourage you to just try to start the project on your own without referencing any of the notebooks. If you get stuck, check out the next lecture which is a text lecture with helpful hints and steps. If you're still stuck after that, then check out the Walkthrough Steps Workbook, which breaks up the project in steps for you to solve. Still stuck? Then check out the Complete Walkthrough Solution video for more help on approaching the project!"
   ]
  },
  {
   "cell_type": "markdown",
   "metadata": {},
   "source": [
    "There are parts of this that will be a struggle...and that is good! I have complete faith that if you have made it this far through the course you have all the tools and knowledge to tackle this project. Remember, it's totally open book, so take your time, do a little research, and remember:\n",
    "\n",
    "## HAVE FUN!"
   ]
  },
  {
   "cell_type": "code",
   "execution_count": 20,
   "metadata": {},
   "outputs": [
    {
     "name": "stdout",
     "output_type": "stream",
     "text": [
      "---X---- | ---X---- | ---X----\n",
      "-------- | -------- | --------\n",
      "--- ----| --- ---- | --- ----\n",
      "-------- | -------- | --------\n",
      "--- ---- | --- ---- | --- ----\n",
      "-------- | -------- | --------\n",
      "round : 1\n",
      "---X---- | ---X---- | ---X----\n",
      "-------- | -------- | --------\n",
      "--- ----| --- ---- | --- ----\n",
      "-------- | -------- | --------\n",
      "--- ---- | --- ---- | --- ----\n",
      "-------- | -------- | --------\n",
      "round : 2\n",
      "---X---- | ---X---- | ---X----\n",
      "-------- | -------- | --------\n",
      "--- ----| --- ---- | --- ----\n",
      "-------- | -------- | --------\n",
      "--- ---- | --- ---- | --- ----\n",
      "-------- | -------- | --------\n",
      "round : 3\n",
      "---X---- | ---X---- | ---X----\n",
      "-------- | -------- | --------\n",
      "--- ----| --- ---- | --- ----\n",
      "-------- | -------- | --------\n",
      "--- ---- | --- ---- | --- ----\n",
      "-------- | -------- | --------\n",
      "round : 4\n",
      "---X---- | ---X---- | ---X----\n",
      "-------- | -------- | --------\n",
      "--- ----| --- ---- | --- ----\n",
      "-------- | -------- | --------\n",
      "--- ---- | --- ---- | --- ----\n",
      "-------- | -------- | --------\n",
      "round : 5\n",
      "---X---- | ---X---- | ---X----\n",
      "-------- | -------- | --------\n",
      "--- ----| --- ---- | --- ----\n",
      "-------- | -------- | --------\n",
      "--- ---- | --- ---- | --- ----\n",
      "-------- | -------- | --------\n",
      "round : 6\n"
     ]
    },
    {
     "ename": "ValueError",
     "evalue": "invalid literal for int() with base 10: ''",
     "output_type": "error",
     "traceback": [
      "\u001b[0;31m---------------------------------------------------------------------------\u001b[0m",
      "\u001b[0;31mValueError\u001b[0m                                Traceback (most recent call last)",
      "Cell \u001b[0;32mIn[20], line 27\u001b[0m\n\u001b[1;32m     24\u001b[0m         \u001b[39mprint\u001b[39m(\u001b[39mf\u001b[39m\u001b[39m'\u001b[39m\u001b[39mround : \u001b[39m\u001b[39m{\u001b[39;00mcounter\u001b[39m}\u001b[39;00m\u001b[39m'\u001b[39m)\n\u001b[1;32m     25\u001b[0m         counter \u001b[39m+\u001b[39m\u001b[39m=\u001b[39m \u001b[39m1\u001b[39m\n\u001b[0;32m---> 27\u001b[0m runner()\n",
      "Cell \u001b[0;32mIn[20], line 15\u001b[0m, in \u001b[0;36mrunner\u001b[0;34m()\u001b[0m\n\u001b[1;32m     10\u001b[0m \u001b[39mwhile\u001b[39;00m \u001b[39mFalse\u001b[39;00m \u001b[39mis\u001b[39;00m \u001b[39mFalse\u001b[39;00m:\n\u001b[1;32m     11\u001b[0m \u001b[39m#check(board)\u001b[39;00m\n\u001b[1;32m     12\u001b[0m     \u001b[39m#getting usser's inputs\u001b[39;00m\n\u001b[1;32m     14\u001b[0m     \u001b[39mif\u001b[39;00m flag \u001b[39mis\u001b[39;00m \u001b[39mTrue\u001b[39;00m:\n\u001b[0;32m---> 15\u001b[0m         board[\u001b[39mint\u001b[39;49m(\u001b[39minput\u001b[39;49m(\u001b[39m'\u001b[39;49m\u001b[39m@player X, enter you choice: \u001b[39;49m\u001b[39m'\u001b[39;49m))] \u001b[39m=\u001b[39m \u001b[39m'\u001b[39m\u001b[39mX\u001b[39m\u001b[39m'\u001b[39m\n\u001b[1;32m     16\u001b[0m         flag \u001b[39m=\u001b[39m \u001b[39mFalse\u001b[39;00m\n\u001b[1;32m     17\u001b[0m     \u001b[39melif\u001b[39;00m flag \u001b[39mis\u001b[39;00m \u001b[39mFalse\u001b[39;00m:\n",
      "\u001b[0;31mValueError\u001b[0m: invalid literal for int() with base 10: ''"
     ]
    }
   ],
   "source": [
    "def runner():\n",
    "    '''this function is used to run the game!\n",
    "    '''\n",
    "    flag = True\n",
    "    counter = 1\n",
    "    #board = [['','',''],['','',''],['','','']]\n",
    "    board = {1 :None ,2 :None ,3 :None ,4 :None ,5 :None ,6 :None ,7 :None ,8 :None ,9 :None }\n",
    "    #print(f'board is : {board}')\n",
    "\n",
    "    while False is False:\n",
    "    #check(board)\n",
    "        #getting usser's inputs\n",
    "        \n",
    "        if flag is True:\n",
    "            board[int(input('@player X, enter you choice: '))] = 'X'\n",
    "            flag = False\n",
    "        elif flag is False:\n",
    "            board[input('@player O, enter you choice: ')] = 'O'\n",
    "            flag = True\n",
    "        \n",
    "        \n",
    "        display(board)\n",
    "        \n",
    "        print(f'round : {counter}')\n",
    "        counter += 1\n",
    "\n",
    "runner()\n",
    "    "
   ]
  },
  {
   "cell_type": "code",
   "execution_count": 16,
   "metadata": {},
   "outputs": [],
   "source": [
    "def check(board):\n",
    "\n",
    "    for i in range(3):\n",
    "        for j in range(3):\n",
    "            if board[i][j] == board[i][j] == board[i][j]:\n",
    "                print(f'player {board[i][j]} has won the game ')\n",
    "                return True\n",
    "                exit    \n",
    "    \n",
    "    if i[0][0] == i[1][1] == i[2][2]:\n",
    "            print(f'player {i[0]} has won the game ')\n",
    "            return True\n",
    "            exit\n",
    "    elif i[0][2] == i[1][1] == i[2][0]:\n",
    "            print(f'player {i[0]} has won the game ')\n",
    "            return True\n",
    "            exit\n",
    "\n",
    "def display(board):\n",
    "    for i in board:\n",
    "        if board[i] == None:\n",
    "            board[i] = ''\n",
    "    print('{1:-^8} | {1:-^8} | {1:-^8}'.format(board[1],board[2],board[3]))\n",
    "    print('{1:-^8} | {1:-^8} | {1:-^8}'.format('--------','--------','--------'))\n",
    "    \n",
    "\n",
    "    print('{1:-^8}| {1:-^8} | {1:-^8}'.format(board[4],board[5],board[6]))\n",
    "    print('{1:-^8} | {1:-^8} | {1:-^8}'.format('--------','--------','--------'))\n",
    "\n",
    "    print('{1:-^8} | {1:-^8} | {1:-^8}'.format(board[7],board[8],board[9]))\n",
    "    print('{1:-^8} | {1:-^8} | {1:-^8}'.format('--------','--------','--------'))"
   ]
  },
  {
   "cell_type": "code",
   "execution_count": 3,
   "metadata": {},
   "outputs": [
    {
     "name": "stdout",
     "output_type": "stream",
     "text": [
      "board is : {1, 2, 3, 4, 5, 6, 7, 8, 9}\n"
     ]
    },
    {
     "ename": "TypeError",
     "evalue": "'set' object does not support item assignment",
     "output_type": "error",
     "traceback": [
      "\u001b[0;31m---------------------------------------------------------------------------\u001b[0m",
      "\u001b[0;31mTypeError\u001b[0m                                 Traceback (most recent call last)",
      "Cell \u001b[0;32mIn[3], line 1\u001b[0m\n\u001b[0;32m----> 1\u001b[0m runner()\n",
      "Cell \u001b[0;32mIn[1], line 14\u001b[0m, in \u001b[0;36mrunner\u001b[0;34m()\u001b[0m\n\u001b[1;32m     12\u001b[0m flag \u001b[39m=\u001b[39m \u001b[39mTrue\u001b[39;00m\n\u001b[1;32m     13\u001b[0m \u001b[39mif\u001b[39;00m flag \u001b[39mis\u001b[39;00m \u001b[39mTrue\u001b[39;00m:\n\u001b[0;32m---> 14\u001b[0m     board[\u001b[39minput\u001b[39;49m(\u001b[39m'\u001b[39;49m\u001b[39m@player X, enter you choice: \u001b[39;49m\u001b[39m'\u001b[39;49m)] \u001b[39m=\u001b[39m \u001b[39m'\u001b[39m\u001b[39mX\u001b[39m\u001b[39m'\u001b[39m\n\u001b[1;32m     15\u001b[0m     flag \u001b[39m=\u001b[39m \u001b[39mFalse\u001b[39;00m\n\u001b[1;32m     16\u001b[0m \u001b[39melif\u001b[39;00m flag \u001b[39mis\u001b[39;00m \u001b[39mFalse\u001b[39;00m:\n",
      "\u001b[0;31mTypeError\u001b[0m: 'set' object does not support item assignment"
     ]
    }
   ],
   "source": [
    "runner()"
   ]
  },
  {
   "cell_type": "code",
   "execution_count": null,
   "metadata": {},
   "outputs": [],
   "source": []
  }
 ],
 "metadata": {
  "kernelspec": {
   "display_name": "Python 3",
   "language": "python",
   "name": "python3"
  },
  "language_info": {
   "codemirror_mode": {
    "name": "ipython",
    "version": 3
   },
   "file_extension": ".py",
   "mimetype": "text/x-python",
   "name": "python",
   "nbconvert_exporter": "python",
   "pygments_lexer": "ipython3",
   "version": "3.9.7"
  },
  "vscode": {
   "interpreter": {
    "hash": "aee8b7b246df8f9039afb4144a1f6fd8d2ca17a180786b69acc140d282b71a49"
   }
  }
 },
 "nbformat": 4,
 "nbformat_minor": 1
}
