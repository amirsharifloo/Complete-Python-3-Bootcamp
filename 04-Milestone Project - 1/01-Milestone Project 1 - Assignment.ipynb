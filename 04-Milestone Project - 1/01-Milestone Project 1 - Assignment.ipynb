{
 "cells": [
  {
   "cell_type": "markdown",
   "metadata": {},
   "source": [
    "___\n",
    "\n",
    "<a href='https://www.udemy.com/user/joseportilla/'><img src='../Pierian_Data_Logo.png'/></a>\n",
    "___\n",
    "<center><em>Content Copyright by Pierian Data</em></center>"
   ]
  },
  {
   "cell_type": "markdown",
   "metadata": {},
   "source": [
    "# Milestone Project 1\n",
    "## Congratulations on making it to your first milestone!\n",
    "You've already learned a ton and are ready to work on a real project.\n",
    "\n",
    "Your assignment: Create a Tic Tac Toe game. You are free to use any IDE you like.\n",
    "\n",
    "Here are the requirements:\n",
    "\n",
    "* 2 players should be able to play the game (both sitting at the same computer)\n",
    "* The board should be printed out every time a player makes a move\n",
    "* You should be able to accept input of the player position and then place a symbol on the board\n",
    "\n",
    "Feel free to use Google to help you figure anything out (but don't just Google \"Tic Tac Toe in Python\" otherwise you won't learn anything!) Keep in mind that this project can take anywhere between several hours to several days.\n",
    "\n",
    "There are 4 Jupyter Notebooks related to this assignment:\n",
    "\n",
    "* This Assignment Notebook\n",
    "* A \"Walkthrough Steps Workbook\" Notebook\n",
    "* A \"Complete Walkthrough Solution\" Notebook\n",
    "* An \"Advanced Solution\" Notebook\n",
    "\n",
    "I encourage you to just try to start the project on your own without referencing any of the notebooks. If you get stuck, check out the next lecture which is a text lecture with helpful hints and steps. If you're still stuck after that, then check out the Walkthrough Steps Workbook, which breaks up the project in steps for you to solve. Still stuck? Then check out the Complete Walkthrough Solution video for more help on approaching the project!"
   ]
  },
  {
   "cell_type": "markdown",
   "metadata": {},
   "source": [
    "There are parts of this that will be a struggle...and that is good! I have complete faith that if you have made it this far through the course you have all the tools and knowledge to tackle this project. Remember, it's totally open book, so take your time, do a little research, and remember:\n",
    "\n",
    "## HAVE FUN!"
   ]
  },
  {
   "cell_type": "code",
   "execution_count": null,
   "metadata": {},
   "outputs": [],
   "source": [
    "def board():\n",
    "    '''this function is used to run the game!\n",
    "    '''\n",
    "    flag = 'x'\n",
    "    counter = 1\n",
    "    #board = [['','',''],['','',''],['','','']]\n",
    "    board = {'1' :None ,'2' :None ,'3' :None ,'4' :None ,'5' :None ,'6' :None ,'7' :None ,'8' :None ,'9' :None }\n",
    "    #print(f'board is : {board}')\n",
    "\n",
    "    while False is False:\n",
    "    #check(board)\n",
    "        #getting usser's inputs\n",
    "        \n",
    "        if flag is 'x':\n",
    "            board[(input('@player X, enter you choice: '))] = 'X'\n",
    "            flag = 'o'\n",
    "        elif flag is False:\n",
    "            board[input('@player O, enter you choice: ')] = 'O'\n",
    "            flag = 'x'\n",
    "        \n",
    "        \n",
    "        display(board)\n",
    "        \n",
    "        print(f'round : {counter}')\n",
    "        counter += 1\n",
    "\n",
    "board()\n",
    "    "
   ]
  },
  {
   "cell_type": "code",
   "execution_count": 1,
   "metadata": {},
   "outputs": [],
   "source": [
    "def check(board):\n",
    "\n",
    "    for i in range(3):\n",
    "        for j in range(3):\n",
    "            if board[i][j] == board[i][j] == board[i][j]:\n",
    "                print(f'player {board[i][j]} has won the game ')\n",
    "                return True\n",
    "                exit    \n",
    "    \n",
    "    if i[0][0] == i[1][1] == i[2][2]:\n",
    "            print(f'player {i[0]} has won the game ')\n",
    "            return True\n",
    "            exit\n",
    "    elif i[0][2] == i[1][1] == i[2][0]:\n",
    "            print(f'player {i[0]} has won the game ')\n",
    "            return True\n",
    "            exit\n",
    "\n"
   ]
  },
  {
   "cell_type": "code",
   "execution_count": null,
   "metadata": {},
   "outputs": [],
   "source": [
    "def display(board):\n",
    "    for i in board:\n",
    "        if board[i] == None:\n",
    "            board[i] = ''\n",
    "    print('{1:-^8} | {1:-^8} | {1:-^8}'.format(board[1],board[2],board[3]))\n",
    "    print('{1:-^8} | {1:-^8} | {1:-^8}'.format('--------','--------','--------'))\n",
    "    \n",
    "\n",
    "    print('{1:-^8}| {1:-^8} | {1:-^8}'.format(board[4],board[5],board[6]))\n",
    "    print('{1:-^8} | {1:-^8} | {1:-^8}'.format('--------','--------','--------'))\n",
    "\n",
    "    print('{1:-^8} | {1:-^8} | {1:-^8}'.format(board[7],board[8],board[9]))\n",
    "    print('{1:-^8} | {1:-^8} | {1:-^8}'.format('--------','--------','--------'))"
   ]
  },
  {
   "cell_type": "code",
   "execution_count": null,
   "metadata": {},
   "outputs": [],
   "source": []
  }
 ],
 "metadata": {
  "kernelspec": {
   "display_name": "Python 3",
   "language": "python",
   "name": "python3"
  },
  "language_info": {
   "codemirror_mode": {
    "name": "ipython",
    "version": 3
   },
   "file_extension": ".py",
   "mimetype": "text/x-python",
   "name": "python",
   "nbconvert_exporter": "python",
   "pygments_lexer": "ipython3",
   "version": "3.10.9"
  },
  "vscode": {
   "interpreter": {
    "hash": "7fd076d91e91854844ee83656d28bed7130dfdb9dac8cd79a71b713987725dd2"
   }
  }
 },
 "nbformat": 4,
 "nbformat_minor": 1
}
